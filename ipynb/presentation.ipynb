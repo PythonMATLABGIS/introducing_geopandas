{
 "cells": [
  {
   "cell_type": "markdown",
   "metadata": {},
   "source": [
    "## What are Auckland's crashiest roads?\n",
    "\n",
    "Use open data and GeoPandas to find out"
   ]
  },
  {
   "cell_type": "code",
   "execution_count": null,
   "metadata": {},
   "outputs": [],
   "source": [
    "from pathlib import Path\n",
    "import json\n",
    "\n",
    "import geopandas as gpd\n",
    "import matplotlib.pyplot as plt\n",
    "import pandas as pd\n",
    "import shapely.geometry as sg\n",
    "import folium\n",
    "import spectra\n",
    "\n",
    "DATA_DIR = Path('../data')\n",
    "OUT_DIR = Path('../output')\n",
    "\n",
    "%matplotlib inline"
   ]
  },
  {
   "cell_type": "markdown",
   "metadata": {},
   "source": [
    "## Download data\n",
    "\n",
    "1. NZ crash data from NZTA at http://www.nzta.govt.nz/safety/safety-resources/road-safety-information-and-tools/disaggregated-crash-data/ \n",
    "2. Auckland road geodata from Mapzen at https://s3.amazonaws.com/metro-extracts.mapzen.com/auckland_new-zealand.imposm-geojson.zip; see also https://mapzen.com/data/metro-extracts/metro/auckland_new-zealand/\n"
   ]
  },
  {
   "cell_type": "code",
   "execution_count": null,
   "metadata": {},
   "outputs": [],
   "source": [
    "%ls {DATA_DIR}"
   ]
  },
  {
   "cell_type": "markdown",
   "metadata": {},
   "source": [
    "## Prepare data"
   ]
  },
  {
   "cell_type": "code",
   "execution_count": null,
   "metadata": {},
   "outputs": [],
   "source": [
    "# Clean crash metadata\n",
    "path = DATA_DIR/'disaggregated-crash-data-metadata.csv'\n",
    "f = pd.read_csv(path, encoding='latin1')  # Ah, Windows\n",
    "\n",
    "# Rename some\n",
    "f = f.rename(columns={\n",
    "    'Variable Name': 'variable',\n",
    "    'Description': 'description',\n",
    "  })\n",
    "\n",
    "# Reformat some\n",
    "f['variable'] = f['variable'].str.upper()\n",
    "f = f[['variable', 'description']].copy()\n",
    "\n",
    "path = DATA_DIR/'disaggregated-crash-data-metadata-cleaned.csv'\n",
    "f.to_csv(path, index=False)"
   ]
  },
  {
   "cell_type": "code",
   "execution_count": null,
   "metadata": {
    "scrolled": true
   },
   "outputs": [],
   "source": [
    "# Filter crash data to last five years and save to (smaller) file\n",
    "path = DATA_DIR/'disaggregated-crash-data.csv'\n",
    "f = pd.read_csv(path)\n",
    "f = f[f['CRASH_YEAR'] >= 2012].copy()\n",
    "\n",
    "path = DATA_DIR/'nz_crashes_2012--2017.csv'\n",
    "f.to_csv(path, index=False)\n"
   ]
  },
  {
   "cell_type": "markdown",
   "metadata": {},
   "source": [
    "## Explore data"
   ]
  },
  {
   "cell_type": "code",
   "execution_count": null,
   "metadata": {},
   "outputs": [],
   "source": [
    "# Load Auckland roads as GeoDataFrame\n",
    "\n",
    "path = DATA_DIR/'auckland_new-zealand_roads_gen1.geojson'  # 50 m tolerance\n",
    "roads = gpd.read_file(str(path))\n",
    "roads['osm_id'] = roads['osm_id'].astype(int).astype(str)\n",
    "roads.head()"
   ]
  },
  {
   "cell_type": "code",
   "execution_count": null,
   "metadata": {},
   "outputs": [],
   "source": [
    "# Project to New Zealand Transverse Mercator (NZTM) coordinates\n",
    "\n",
    "WGS84 = {'init': 'epsg:4326'}\n",
    "NZTM = {'no_defs': True, 'init': 'epsg:2193'}\n",
    "\n",
    "print('Is the current CRS WGS84?', roads.crs == WGS84)\n",
    "\n",
    "roads = roads.to_crs(NZTM)\n",
    "print('Is the new CRS NZTM?', roads.crs == NZTM)\n",
    "\n",
    "roads.head()"
   ]
  },
  {
   "cell_type": "code",
   "execution_count": null,
   "metadata": {},
   "outputs": [],
   "source": [
    "# Plot\n",
    "\n",
    "f, ax = plt.subplots(1, figsize=(12, 12))\n",
    "ax = roads.plot(column='type', ax=ax)\n",
    "plt.show()\n"
   ]
  },
  {
   "cell_type": "code",
   "execution_count": null,
   "metadata": {},
   "outputs": [],
   "source": [
    "# Load NZ crash data as a DataFrame\n",
    "\n",
    "path = DATA_DIR/'nz_crashes_2012--2017.csv'\n",
    "crashes = pd.read_csv(path)\n",
    "crashes.head().T"
   ]
  },
  {
   "cell_type": "code",
   "execution_count": null,
   "metadata": {},
   "outputs": [],
   "source": [
    "# Filter Auckland crashes and drop bad locations\n",
    "\n",
    "f = crashes.copy()\n",
    "cond = f['LG_REGION_DESC'].str.contains('Auckland')\n",
    "cond &= (f['EASTING'] > 0) & (f['NORTHING'] > 0)\n",
    "#cond &= f['MULTI_VEH'].str.contains(r'cyclist|pedestrian', case=False)\n",
    "f = f[cond].copy()\n",
    "f.T\n",
    "\n"
   ]
  },
  {
   "cell_type": "code",
   "execution_count": null,
   "metadata": {},
   "outputs": [],
   "source": [
    "# What's CRASH_SEV?\n",
    "\n",
    "path = DATA_DIR/'disaggregated-crash-data-metadata-cleaned.csv'\n",
    "tmp = pd.read_csv(path)\n",
    "\n",
    "cond = tmp['variable'] == 'CRASH_SEV'\n",
    "tmp.loc[cond, 'description'].iat[0]"
   ]
  },
  {
   "cell_type": "code",
   "execution_count": null,
   "metadata": {},
   "outputs": [],
   "source": [
    "# Convert to GeoDataFrame in NZTM\n",
    "\n",
    "geometry = [sg.Point(p) for p in zip(f['EASTING'], f['NORTHING'])]\n",
    "crashes = gpd.GeoDataFrame(f, crs=NZTM, geometry=geometry)\n",
    "crashes.T"
   ]
  },
  {
   "cell_type": "code",
   "execution_count": null,
   "metadata": {},
   "outputs": [],
   "source": [
    "# Plot crashes on roads\n",
    "\n",
    "f, ax = plt.subplots(1, figsize=(12, 12))\n",
    "base = roads.plot(color='black', ax=ax)\n",
    "crashes.plot(ax=base, marker='o', color='red', markersize=3)\n",
    "plt.show()"
   ]
  },
  {
   "cell_type": "markdown",
   "metadata": {},
   "source": [
    "## Address our question"
   ]
  },
  {
   "cell_type": "code",
   "execution_count": null,
   "metadata": {},
   "outputs": [],
   "source": [
    "# For each road collect the crashes near it\n",
    "\n",
    "r = roads[['geometry', 'osm_id', 'name', 'class']].copy()\n",
    "\n",
    "# Buffer crash points\n",
    "buffer = 5  # meters\n",
    "c = crashes[['geometry', 'CRASH_SEV']].copy()\n",
    "c['geometry'] = c['geometry'].buffer(buffer)\n",
    "\n",
    "# Spatial-join roads and buffered crash points \n",
    "f = gpd.sjoin(r, c, how='inner', op='intersects')\n",
    "f"
   ]
  },
  {
   "cell_type": "code",
   "execution_count": null,
   "metadata": {},
   "outputs": [],
   "source": [
    "# Assign a crash score to each road.\n",
    "# Use the number of crashes per meter.\n",
    "# Alternatively, could weight crashes by severity, but won't do that here.\n",
    "\n",
    "f['num_crashes'] = 1\n",
    "g = f.groupby('osm_id', as_index=False).agg({\n",
    "  'num_crashes': 'sum', \n",
    "  'name': 'first',\n",
    "  'geometry': 'first',\n",
    "  })\n",
    "g = gpd.GeoDataFrame(g, crs=NZTM)  # Lost GeoDataFrame during groupby :(\n",
    "\n",
    "g['length'] = g.geometry.length\n",
    "g['crash_score'] = g['num_crashes']/g['length']\n",
    "g = g.sort_values('crash_score', ascending=False)\n",
    "\n",
    "# Save to file for posterity\n",
    "path = OUT_DIR/'auckland_crashy_roads.geojson'\n",
    "with path.open('w') as tgt:\n",
    "     tgt.write(g.to_crs(WGS84).to_json())\n",
    "\n",
    "g"
   ]
  },
  {
   "cell_type": "markdown",
   "metadata": {},
   "source": [
    "# Visualize the crashiest roads"
   ]
  },
  {
   "cell_type": "code",
   "execution_count": null,
   "metadata": {},
   "outputs": [],
   "source": [
    "# Color-code roads by crash score with Spectra \n",
    "\n",
    "print(g.describe())\n",
    "\n",
    "# Use Colorbrewer spectral colors\n",
    "colors = reversed(['#d7191c', '#d7191c','#fdae61','#ffffbf','#abdda4','#2b83ba'])  \n",
    "cuts = [0] + [g['crash_score'].quantile(k/100) for k in [25, 50, 75, 98, 100]]\n",
    "scale = spectra.scale(colors).colorspace('lch').domain(cuts)\n",
    "g['color'] = g['crash_score'].map(lambda x: scale(x).hexcode)"
   ]
  },
  {
   "cell_type": "code",
   "execution_count": null,
   "metadata": {},
   "outputs": [],
   "source": [
    "# Plot on a slippy map with Folium\n",
    "\n",
    "g = g.to_crs(WGS84) \n",
    "lon, lat = g.geometry.iat[0].coords[0]  # Center on crashiest road\n",
    "tiles = 'https://cartodb-basemaps-{s}.global.ssl.fastly.net/light_all/{z}/{x}/{y}.png'\n",
    "mappy = folium.Map(location=[lat, lon], zoom_start=16, tiles=tiles, attr='OSM')\n",
    "\n",
    "def style(x):\n",
    "    return {\n",
    "        'color': x['properties']['color'],\n",
    "        'weight': 5,\n",
    "    }\n",
    "\n",
    "geo = json.loads(g.sort_values('crash_score').to_json())\n",
    "folium.GeoJson(geo, \n",
    "  style_function=style).add_to(mappy)\n",
    "\n",
    "mappy\n"
   ]
  },
  {
   "cell_type": "markdown",
   "metadata": {},
   "source": [
    "## Ideas for further exploration\n",
    "\n",
    "- Use better resolution roads\n",
    "- Do analysis on road name rather than road ID\n",
    "- Choose a different metric?\n",
    "- Forget roads and focus on areas; use a heatmap"
   ]
  },
  {
   "cell_type": "code",
   "execution_count": null,
   "metadata": {},
   "outputs": [],
   "source": []
  }
 ],
 "metadata": {
  "kernelspec": {
   "display_name": "Python 3",
   "language": "python",
   "name": "python3"
  },
  "language_info": {
   "codemirror_mode": {
    "name": "ipython",
    "version": 3
   },
   "file_extension": ".py",
   "mimetype": "text/x-python",
   "name": "python",
   "nbconvert_exporter": "python",
   "pygments_lexer": "ipython3",
   "version": "3.5.2"
  }
 },
 "nbformat": 4,
 "nbformat_minor": 1
}
